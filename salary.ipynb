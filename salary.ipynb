{
 "cells": [
  {
   "cell_type": "markdown",
   "id": "876e8359",
   "metadata": {},
   "source": [
    "# Зарплата"
   ]
  },
  {
   "cell_type": "markdown",
   "id": "97f92b8c",
   "metadata": {},
   "source": [
    "В данном пректе показано исследование данных о зарплате\n",
    "\n",
    "**Ход исследования**\n",
    "\n",
    "Данные о зарплатах получим из файла `Salary_Data.csv`. О качестве данных ничего не известно. Поэтому перед анализом понадобится обзор данных. \n",
    " \n",
    "Таким образом, исследование пройдёт в три этапа:\n",
    " 1. Обзор данных.\n",
    " 2. Предобработка данных.\n",
    " 3. Анализ данных."
   ]
  },
  {
   "cell_type": "markdown",
   "id": "f0959d3b",
   "metadata": {},
   "source": [
    "## Обзор данных\n",
    "\n",
    "Составим первое представление о данных по зарплате.\n",
    "\n",
    "Основной инструмент для аналитики это - `pandas`. Импортируем эту библиотеку."
   ]
  },
  {
   "cell_type": "code",
   "execution_count": 1,
   "id": "cc753092",
   "metadata": {},
   "outputs": [],
   "source": [
    "import pandas as pd "
   ]
  },
  {
   "cell_type": "markdown",
   "id": "8ae12e2c",
   "metadata": {},
   "source": [
    "Прочитаем файл `Salary_Data.csv` и сохраним его в переменной `df`:"
   ]
  },
  {
   "cell_type": "code",
   "execution_count": 2,
   "id": "ee90d1b4",
   "metadata": {},
   "outputs": [],
   "source": [
    "df=pd.read_csv('Salary_Data.csv')"
   ]
  },
  {
   "cell_type": "markdown",
   "id": "000be892",
   "metadata": {},
   "source": [
    "Выведем на экран первые десять строк таблицы:"
   ]
  },
  {
   "cell_type": "code",
   "execution_count": 3,
   "id": "cb442eb5",
   "metadata": {},
   "outputs": [
    {
     "data": {
      "text/html": [
       "<div>\n",
       "<style scoped>\n",
       "    .dataframe tbody tr th:only-of-type {\n",
       "        vertical-align: middle;\n",
       "    }\n",
       "\n",
       "    .dataframe tbody tr th {\n",
       "        vertical-align: top;\n",
       "    }\n",
       "\n",
       "    .dataframe thead th {\n",
       "        text-align: right;\n",
       "    }\n",
       "</style>\n",
       "<table border=\"1\" class=\"dataframe\">\n",
       "  <thead>\n",
       "    <tr style=\"text-align: right;\">\n",
       "      <th></th>\n",
       "      <th>Age</th>\n",
       "      <th>Gender</th>\n",
       "      <th>Education Level</th>\n",
       "      <th>Job Title</th>\n",
       "      <th>Years of Experience</th>\n",
       "      <th>Salary</th>\n",
       "    </tr>\n",
       "  </thead>\n",
       "  <tbody>\n",
       "    <tr>\n",
       "      <th>0</th>\n",
       "      <td>32.0</td>\n",
       "      <td>Male</td>\n",
       "      <td>Bachelor's</td>\n",
       "      <td>Software Engineer</td>\n",
       "      <td>5.0</td>\n",
       "      <td>90000.0</td>\n",
       "    </tr>\n",
       "    <tr>\n",
       "      <th>1</th>\n",
       "      <td>28.0</td>\n",
       "      <td>Female</td>\n",
       "      <td>Master's</td>\n",
       "      <td>Data Analyst</td>\n",
       "      <td>3.0</td>\n",
       "      <td>65000.0</td>\n",
       "    </tr>\n",
       "    <tr>\n",
       "      <th>2</th>\n",
       "      <td>45.0</td>\n",
       "      <td>Male</td>\n",
       "      <td>PhD</td>\n",
       "      <td>Senior Manager</td>\n",
       "      <td>15.0</td>\n",
       "      <td>150000.0</td>\n",
       "    </tr>\n",
       "    <tr>\n",
       "      <th>3</th>\n",
       "      <td>36.0</td>\n",
       "      <td>Female</td>\n",
       "      <td>Bachelor's</td>\n",
       "      <td>Sales Associate</td>\n",
       "      <td>7.0</td>\n",
       "      <td>60000.0</td>\n",
       "    </tr>\n",
       "    <tr>\n",
       "      <th>4</th>\n",
       "      <td>52.0</td>\n",
       "      <td>Male</td>\n",
       "      <td>Master's</td>\n",
       "      <td>Director</td>\n",
       "      <td>20.0</td>\n",
       "      <td>200000.0</td>\n",
       "    </tr>\n",
       "    <tr>\n",
       "      <th>5</th>\n",
       "      <td>29.0</td>\n",
       "      <td>Male</td>\n",
       "      <td>Bachelor's</td>\n",
       "      <td>Marketing Analyst</td>\n",
       "      <td>2.0</td>\n",
       "      <td>55000.0</td>\n",
       "    </tr>\n",
       "    <tr>\n",
       "      <th>6</th>\n",
       "      <td>42.0</td>\n",
       "      <td>Female</td>\n",
       "      <td>Master's</td>\n",
       "      <td>Product Manager</td>\n",
       "      <td>12.0</td>\n",
       "      <td>120000.0</td>\n",
       "    </tr>\n",
       "    <tr>\n",
       "      <th>7</th>\n",
       "      <td>31.0</td>\n",
       "      <td>Male</td>\n",
       "      <td>Bachelor's</td>\n",
       "      <td>Sales Manager</td>\n",
       "      <td>4.0</td>\n",
       "      <td>80000.0</td>\n",
       "    </tr>\n",
       "    <tr>\n",
       "      <th>8</th>\n",
       "      <td>26.0</td>\n",
       "      <td>Female</td>\n",
       "      <td>Bachelor's</td>\n",
       "      <td>Marketing Coordinator</td>\n",
       "      <td>1.0</td>\n",
       "      <td>45000.0</td>\n",
       "    </tr>\n",
       "    <tr>\n",
       "      <th>9</th>\n",
       "      <td>38.0</td>\n",
       "      <td>Male</td>\n",
       "      <td>PhD</td>\n",
       "      <td>Senior Scientist</td>\n",
       "      <td>10.0</td>\n",
       "      <td>110000.0</td>\n",
       "    </tr>\n",
       "  </tbody>\n",
       "</table>\n",
       "</div>"
      ],
      "text/plain": [
       "    Age  Gender Education Level              Job Title  Years of Experience   \n",
       "0  32.0    Male      Bachelor's      Software Engineer                  5.0  \\\n",
       "1  28.0  Female        Master's           Data Analyst                  3.0   \n",
       "2  45.0    Male             PhD         Senior Manager                 15.0   \n",
       "3  36.0  Female      Bachelor's        Sales Associate                  7.0   \n",
       "4  52.0    Male        Master's               Director                 20.0   \n",
       "5  29.0    Male      Bachelor's      Marketing Analyst                  2.0   \n",
       "6  42.0  Female        Master's        Product Manager                 12.0   \n",
       "7  31.0    Male      Bachelor's          Sales Manager                  4.0   \n",
       "8  26.0  Female      Bachelor's  Marketing Coordinator                  1.0   \n",
       "9  38.0    Male             PhD       Senior Scientist                 10.0   \n",
       "\n",
       "     Salary  \n",
       "0   90000.0  \n",
       "1   65000.0  \n",
       "2  150000.0  \n",
       "3   60000.0  \n",
       "4  200000.0  \n",
       "5   55000.0  \n",
       "6  120000.0  \n",
       "7   80000.0  \n",
       "8   45000.0  \n",
       "9  110000.0  "
      ]
     },
     "execution_count": 3,
     "metadata": {},
     "output_type": "execute_result"
    }
   ],
   "source": [
    "df.head(10)"
   ]
  },
  {
   "cell_type": "markdown",
   "id": "46567c3c",
   "metadata": {},
   "source": [
    "Одной командой получим общую информацию о таблице c помощью метода `info()`:"
   ]
  },
  {
   "cell_type": "code",
   "execution_count": 4,
   "id": "4245264f",
   "metadata": {},
   "outputs": [
    {
     "name": "stdout",
     "output_type": "stream",
     "text": [
      "<class 'pandas.core.frame.DataFrame'>\n",
      "RangeIndex: 6704 entries, 0 to 6703\n",
      "Data columns (total 6 columns):\n",
      " #   Column               Non-Null Count  Dtype  \n",
      "---  ------               --------------  -----  \n",
      " 0   Age                  6702 non-null   float64\n",
      " 1   Gender               6702 non-null   object \n",
      " 2   Education Level      6701 non-null   object \n",
      " 3   Job Title            6702 non-null   object \n",
      " 4   Years of Experience  6701 non-null   float64\n",
      " 5   Salary               6699 non-null   float64\n",
      "dtypes: float64(3), object(3)\n",
      "memory usage: 314.4+ KB\n"
     ]
    }
   ],
   "source": [
    "df.info()"
   ]
  },
  {
   "cell_type": "markdown",
   "id": "c174fd9b",
   "metadata": {},
   "source": [
    "Итак, в таблице шесть столбцов. В столбцах встречаются типы данных — `object` и `float64`.\n",
    "\n",
    "Согласно документации к данным:\n",
    "* `Age` — возраст;\n",
    "* `Gender` — пол;  \n",
    "* `Education Level` — уровень образования;\n",
    "* `Job Title` — должность;\n",
    "* `Years of Experience` — опыт работы;\n",
    "* `Salary` — зарплата;\n",
    "\n",
    "\n",
    "Количество значений в столбцах различается. Значит, в данных есть пропущенные значения."
   ]
  },
  {
   "cell_type": "markdown",
   "id": "303ededc",
   "metadata": {},
   "source": [
    "В названиях колонок видны нарушения стиля:\n",
    "1. Строчные буквы сочетаются с прописными.\n",
    "2. Встречаются пробелы."
   ]
  },
  {
   "cell_type": "markdown",
   "id": "f838fa77",
   "metadata": {},
   "source": [
    "**Выводы**\n",
    "\n",
    "В каждой строке таблицы — данные о кадрах. Часть колонок описывает саму должнось: ее название и уровень зарплаты. Остальные данные рассказывают о человеке, который занимает данную должность: сколько ему лет , пол, уровень образования и опыт работы. \n",
    "\n",
    "Предварительно можно утверждать, что, данных достаточно для анализа. Но встречаются пропуски в данных, а в названиях колонок — расхождения с хорошим стилем.\n",
    "\n",
    "Чтобы двигаться дальше, нужно устранить проблемы в данных."
   ]
  },
  {
   "cell_type": "markdown",
   "id": "b368def2",
   "metadata": {},
   "source": [
    "## Предобработка данных\n",
    "Исправим стиль в заголовках столбцов, исключим пропуски. Затем проверим данные на дубликаты."
   ]
  },
  {
   "cell_type": "markdown",
   "id": "459de5e4",
   "metadata": {},
   "source": [
    "Выведем на экран названия столбцов:"
   ]
  },
  {
   "cell_type": "code",
   "execution_count": 5,
   "id": "051ac3b3",
   "metadata": {},
   "outputs": [
    {
     "data": {
      "text/plain": [
       "Index(['Age', 'Gender', 'Education Level', 'Job Title', 'Years of Experience',\n",
       "       'Salary'],\n",
       "      dtype='object')"
      ]
     },
     "execution_count": 5,
     "metadata": {},
     "output_type": "execute_result"
    }
   ],
   "source": [
    "df.columns"
   ]
  },
  {
   "cell_type": "markdown",
   "id": "d0157b7d",
   "metadata": {},
   "source": [
    "Приведем названия в соответствие с хорошим стилем:\n",
    "* несколько слов в названии запишем в «змеином_регистре»,\n",
    "* все символы сделаем строчными.\n",
    "\n",
    "Для этого переименуем колонки так:\n",
    "* `'Age'` → `'age'`;\n",
    "* `'Gender'` → `'gender'`;\n",
    "* `'Education Level'` → `'education_level'`;\n",
    "* `'Job Title'` → `'job_title'`;\n",
    "* `'Years of Experience'` → `'years_of_experience'`;\n",
    "* `'Salary'` → `'salary'`;\n"
   ]
  },
  {
   "cell_type": "code",
   "execution_count": 6,
   "id": "c0bcf438",
   "metadata": {},
   "outputs": [],
   "source": [
    "df=df.rename(columns={'Age':'age','Gender':'gender','Education Level':'education_level','Job Title':'job_title','Years of Experience':'years_of_experience','Salary':'salary'})"
   ]
  },
  {
   "cell_type": "markdown",
   "id": "8bfed638",
   "metadata": {},
   "source": [
    "Проверим результат. Для этого ещё раз выведем на экран названия столбцов:"
   ]
  },
  {
   "cell_type": "code",
   "execution_count": 7,
   "id": "83e8c42d",
   "metadata": {},
   "outputs": [
    {
     "data": {
      "text/plain": [
       "Index(['age', 'gender', 'education_level', 'job_title', 'years_of_experience',\n",
       "       'salary'],\n",
       "      dtype='object')"
      ]
     },
     "execution_count": 7,
     "metadata": {},
     "output_type": "execute_result"
    }
   ],
   "source": [
    "df.columns"
   ]
  },
  {
   "cell_type": "markdown",
   "id": "2ccf0288",
   "metadata": {},
   "source": [
    "### Пропуски значений\n",
    "\n",
    "Сначала посчитаем, сколько в таблице пропущенных значений."
   ]
  },
  {
   "cell_type": "code",
   "execution_count": 8,
   "id": "6e3f99a0",
   "metadata": {},
   "outputs": [
    {
     "data": {
      "text/plain": [
       "age                    2\n",
       "gender                 2\n",
       "education_level        3\n",
       "job_title              2\n",
       "years_of_experience    3\n",
       "salary                 5\n",
       "dtype: int64"
      ]
     },
     "execution_count": 8,
     "metadata": {},
     "output_type": "execute_result"
    }
   ],
   "source": [
    "df.isna().sum()"
   ]
  },
  {
   "cell_type": "markdown",
   "id": "4ead5a34",
   "metadata": {},
   "source": [
    "К сожалению пропуски есть во всех столбцах, а это помешает  для дальнейшего исследования. \n",
    "Поэтому удалим все строки с пропущенными значениями."
   ]
  },
  {
   "cell_type": "code",
   "execution_count": 9,
   "id": "fefcfc2a",
   "metadata": {},
   "outputs": [],
   "source": [
    "df=df.dropna()"
   ]
  },
  {
   "cell_type": "markdown",
   "id": "02ce8e09",
   "metadata": {},
   "source": [
    "Убедимся, что в таблице не осталось пропусков. Для этого ещё раз посчитайте пропущенные значения."
   ]
  },
  {
   "cell_type": "code",
   "execution_count": 10,
   "id": "2a8e7e73",
   "metadata": {},
   "outputs": [
    {
     "data": {
      "text/plain": [
       "age                    0\n",
       "gender                 0\n",
       "education_level        0\n",
       "job_title              0\n",
       "years_of_experience    0\n",
       "salary                 0\n",
       "dtype: int64"
      ]
     },
     "execution_count": 10,
     "metadata": {},
     "output_type": "execute_result"
    }
   ],
   "source": [
    "df.isna().sum()"
   ]
  },
  {
   "cell_type": "markdown",
   "id": "fd0e3de8",
   "metadata": {},
   "source": [
    "### Дубликаты\n",
    "\n",
    "Посчитаем явные дубликаты в таблице одной командой:"
   ]
  },
  {
   "cell_type": "code",
   "execution_count": 11,
   "id": "7af23be4",
   "metadata": {},
   "outputs": [
    {
     "data": {
      "text/plain": [
       "4911"
      ]
     },
     "execution_count": 11,
     "metadata": {},
     "output_type": "execute_result"
    }
   ],
   "source": [
    "df.duplicated().sum()"
   ]
  },
  {
   "cell_type": "markdown",
   "id": "bcd4ae2f",
   "metadata": {},
   "source": [
    "Вызовем специальный метод `pandas`, чтобы удалить явные дубликаты:"
   ]
  },
  {
   "cell_type": "code",
   "execution_count": 12,
   "id": "d9945713",
   "metadata": {},
   "outputs": [],
   "source": [
    "df = df.drop_duplicates()"
   ]
  },
  {
   "cell_type": "markdown",
   "id": "9412af0b",
   "metadata": {},
   "source": [
    "Ещё раз посчитаем явные дубликаты в таблице — убедимся, что полностью от них избавились:"
   ]
  },
  {
   "cell_type": "code",
   "execution_count": 13,
   "id": "964eb987",
   "metadata": {},
   "outputs": [
    {
     "data": {
      "text/plain": [
       "0"
      ]
     },
     "execution_count": 13,
     "metadata": {},
     "output_type": "execute_result"
    }
   ],
   "source": [
    "df.duplicated().sum()"
   ]
  },
  {
   "cell_type": "markdown",
   "id": "ceb382f0",
   "metadata": {},
   "source": [
    "Теперь избавимся от неявных дубликатов в колонке `job_title`. Например, название одной и той же профессии может быть записано немного по-разному. Такие ошибки тоже повлияют на результат."
   ]
  },
  {
   "cell_type": "markdown",
   "id": "57b17914",
   "metadata": {},
   "source": [
    "Выведем на экран список уникальных названий жанров, отсортированный в алфавитном порядке. Для этого:\n",
    "* извлечем нужный столбец датафрейма, \n",
    "* применим к нему метод сортировки,\n",
    "* для отсортированного столбца вызовем метод, который вернёт уникальные значения из столбца"
   ]
  },
  {
   "cell_type": "code",
   "execution_count": 14,
   "id": "2613003c",
   "metadata": {},
   "outputs": [
    {
     "data": {
      "text/plain": [
       "array(['Account Manager', 'Accountant', 'Administrative Assistant',\n",
       "       'Back end Developer', 'Business Analyst',\n",
       "       'Business Development Manager', 'Business Intelligence Analyst',\n",
       "       'CEO', 'Chief Data Officer', 'Chief Technology Officer',\n",
       "       'Content Marketing Manager', 'Copywriter', 'Creative Director',\n",
       "       'Customer Service Manager', 'Customer Service Rep',\n",
       "       'Customer Service Representative', 'Customer Success Manager',\n",
       "       'Customer Success Rep', 'Data Analyst', 'Data Entry Clerk',\n",
       "       'Data Scientist', 'Delivery Driver', 'Digital Content Producer',\n",
       "       'Digital Marketing Manager', 'Digital Marketing Specialist',\n",
       "       'Director', 'Director of Business Development',\n",
       "       'Director of Data Science', 'Director of Engineering',\n",
       "       'Director of Finance', 'Director of HR',\n",
       "       'Director of Human Capital', 'Director of Human Resources',\n",
       "       'Director of Marketing', 'Director of Operations',\n",
       "       'Director of Product Management', 'Director of Sales',\n",
       "       'Director of Sales and Marketing', 'Event Coordinator',\n",
       "       'Financial Advisor', 'Financial Analyst', 'Financial Manager',\n",
       "       'Front End Developer', 'Front end Developer',\n",
       "       'Full Stack Engineer', 'Graphic Designer', 'HR Generalist',\n",
       "       'HR Manager', 'Help Desk Analyst', 'Human Resources Coordinator',\n",
       "       'Human Resources Director', 'Human Resources Manager',\n",
       "       'IT Manager', 'IT Support', 'IT Support Specialist',\n",
       "       'Junior Account Manager', 'Junior Accountant',\n",
       "       'Junior Advertising Coordinator', 'Junior Business Analyst',\n",
       "       'Junior Business Development Associate',\n",
       "       'Junior Business Operations Analyst', 'Junior Copywriter',\n",
       "       'Junior Customer Support Specialist', 'Junior Data Analyst',\n",
       "       'Junior Data Scientist', 'Junior Designer', 'Junior Developer',\n",
       "       'Junior Financial Advisor', 'Junior Financial Analyst',\n",
       "       'Junior HR Coordinator', 'Junior HR Generalist',\n",
       "       'Junior Marketing Analyst', 'Junior Marketing Coordinator',\n",
       "       'Junior Marketing Manager', 'Junior Marketing Specialist',\n",
       "       'Junior Operations Analyst', 'Junior Operations Coordinator',\n",
       "       'Junior Operations Manager', 'Junior Product Manager',\n",
       "       'Junior Project Manager', 'Junior Recruiter',\n",
       "       'Junior Research Scientist', 'Junior Sales Associate',\n",
       "       'Junior Sales Representative', 'Junior Social Media Manager',\n",
       "       'Junior Social Media Specialist', 'Junior Software Developer',\n",
       "       'Junior Software Engineer', 'Junior UX Designer',\n",
       "       'Junior Web Designer', 'Junior Web Developer',\n",
       "       'Juniour HR Coordinator', 'Juniour HR Generalist',\n",
       "       'Marketing Analyst', 'Marketing Coordinator', 'Marketing Director',\n",
       "       'Marketing Manager', 'Marketing Specialist', 'Network Engineer',\n",
       "       'Office Manager', 'Operations Analyst', 'Operations Director',\n",
       "       'Operations Manager', 'Principal Engineer', 'Principal Scientist',\n",
       "       'Product Designer', 'Product Manager', 'Product Marketing Manager',\n",
       "       'Project Engineer', 'Project Manager', 'Public Relations Manager',\n",
       "       'Receptionist', 'Recruiter', 'Research Director',\n",
       "       'Research Scientist', 'Sales Associate', 'Sales Director',\n",
       "       'Sales Executive', 'Sales Manager', 'Sales Operations Manager',\n",
       "       'Sales Representative', 'Senior Account Executive',\n",
       "       'Senior Account Manager', 'Senior Accountant',\n",
       "       'Senior Business Analyst', 'Senior Business Development Manager',\n",
       "       'Senior Consultant', 'Senior Data Analyst', 'Senior Data Engineer',\n",
       "       'Senior Data Scientist', 'Senior Engineer',\n",
       "       'Senior Financial Advisor', 'Senior Financial Analyst',\n",
       "       'Senior Financial Manager', 'Senior Graphic Designer',\n",
       "       'Senior HR Generalist', 'Senior HR Manager',\n",
       "       'Senior HR Specialist', 'Senior Human Resources Coordinator',\n",
       "       'Senior Human Resources Manager',\n",
       "       'Senior Human Resources Specialist', 'Senior IT Consultant',\n",
       "       'Senior IT Project Manager', 'Senior IT Support Specialist',\n",
       "       'Senior Manager', 'Senior Marketing Analyst',\n",
       "       'Senior Marketing Coordinator', 'Senior Marketing Director',\n",
       "       'Senior Marketing Manager', 'Senior Marketing Specialist',\n",
       "       'Senior Operations Analyst', 'Senior Operations Coordinator',\n",
       "       'Senior Operations Manager', 'Senior Product Designer',\n",
       "       'Senior Product Development Manager', 'Senior Product Manager',\n",
       "       'Senior Product Marketing Manager', 'Senior Project Coordinator',\n",
       "       'Senior Project Engineer', 'Senior Project Manager',\n",
       "       'Senior Quality Assurance Analyst', 'Senior Research Scientist',\n",
       "       'Senior Researcher', 'Senior Sales Manager',\n",
       "       'Senior Sales Representative', 'Senior Scientist',\n",
       "       'Senior Software Architect', 'Senior Software Developer',\n",
       "       'Senior Software Engineer', 'Senior Training Specialist',\n",
       "       'Senior UX Designer', 'Social Media Man', 'Social Media Manager',\n",
       "       'Social Media Specialist', 'Software Developer',\n",
       "       'Software Engineer', 'Software Engineer Manager',\n",
       "       'Software Manager', 'Software Project Manager',\n",
       "       'Strategy Consultant', 'Supply Chain Analyst',\n",
       "       'Supply Chain Manager', 'Technical Recruiter',\n",
       "       'Technical Support Specialist', 'Technical Writer',\n",
       "       'Training Specialist', 'UX Designer', 'UX Researcher',\n",
       "       'VP of Finance', 'VP of Operations', 'Web Developer'], dtype=object)"
      ]
     },
     "execution_count": 14,
     "metadata": {},
     "output_type": "execute_result"
    }
   ],
   "source": [
    "df['job_title'].sort_values().unique()"
   ]
  },
  {
   "cell_type": "markdown",
   "id": "82649280",
   "metadata": {},
   "source": [
    "#### Были обнаружены неявные дубликаты. Чтобы очистить от них таблицу используем метод `replace()`."
   ]
  },
  {
   "cell_type": "code",
   "execution_count": 15,
   "id": "a702f730",
   "metadata": {},
   "outputs": [],
   "source": [
    "df = df.replace(['Director of Human Resources','Human Resources Director'],'Director of HR')\n",
    "df = df.replace('Front end Developer','Front End Developer')            \n",
    "df = df.replace('Human Resources Manager','HR Manager')\n",
    "df = df.replace('IT Support Specialist','IT Support')\n",
    "df = df.replace('Marketing Director','Director of Marketing')"
   ]
  },
  {
   "cell_type": "markdown",
   "id": "92326d9e",
   "metadata": {},
   "source": [
    "#### Сделаем проверку, выведите отсортированный список уникальных значений столбца `job_title`:"
   ]
  },
  {
   "cell_type": "code",
   "execution_count": 16,
   "id": "e26c786a",
   "metadata": {},
   "outputs": [
    {
     "data": {
      "text/plain": [
       "array(['Account Manager', 'Accountant', 'Administrative Assistant',\n",
       "       'Back end Developer', 'Business Analyst',\n",
       "       'Business Development Manager', 'Business Intelligence Analyst',\n",
       "       'CEO', 'Chief Data Officer', 'Chief Technology Officer',\n",
       "       'Content Marketing Manager', 'Copywriter', 'Creative Director',\n",
       "       'Customer Service Manager', 'Customer Service Rep',\n",
       "       'Customer Service Representative', 'Customer Success Manager',\n",
       "       'Customer Success Rep', 'Data Analyst', 'Data Entry Clerk',\n",
       "       'Data Scientist', 'Delivery Driver', 'Digital Content Producer',\n",
       "       'Digital Marketing Manager', 'Digital Marketing Specialist',\n",
       "       'Director', 'Director of Business Development',\n",
       "       'Director of Data Science', 'Director of Engineering',\n",
       "       'Director of Finance', 'Director of HR',\n",
       "       'Director of Human Capital', 'Director of Marketing',\n",
       "       'Director of Operations', 'Director of Product Management',\n",
       "       'Director of Sales', 'Director of Sales and Marketing',\n",
       "       'Event Coordinator', 'Financial Advisor', 'Financial Analyst',\n",
       "       'Financial Manager', 'Front End Developer', 'Full Stack Engineer',\n",
       "       'Graphic Designer', 'HR Generalist', 'HR Manager',\n",
       "       'Help Desk Analyst', 'Human Resources Coordinator', 'IT Manager',\n",
       "       'IT Support', 'Junior Account Manager', 'Junior Accountant',\n",
       "       'Junior Advertising Coordinator', 'Junior Business Analyst',\n",
       "       'Junior Business Development Associate',\n",
       "       'Junior Business Operations Analyst', 'Junior Copywriter',\n",
       "       'Junior Customer Support Specialist', 'Junior Data Analyst',\n",
       "       'Junior Data Scientist', 'Junior Designer', 'Junior Developer',\n",
       "       'Junior Financial Advisor', 'Junior Financial Analyst',\n",
       "       'Junior HR Coordinator', 'Junior HR Generalist',\n",
       "       'Junior Marketing Analyst', 'Junior Marketing Coordinator',\n",
       "       'Junior Marketing Manager', 'Junior Marketing Specialist',\n",
       "       'Junior Operations Analyst', 'Junior Operations Coordinator',\n",
       "       'Junior Operations Manager', 'Junior Product Manager',\n",
       "       'Junior Project Manager', 'Junior Recruiter',\n",
       "       'Junior Research Scientist', 'Junior Sales Associate',\n",
       "       'Junior Sales Representative', 'Junior Social Media Manager',\n",
       "       'Junior Social Media Specialist', 'Junior Software Developer',\n",
       "       'Junior Software Engineer', 'Junior UX Designer',\n",
       "       'Junior Web Designer', 'Junior Web Developer',\n",
       "       'Juniour HR Coordinator', 'Juniour HR Generalist',\n",
       "       'Marketing Analyst', 'Marketing Coordinator', 'Marketing Manager',\n",
       "       'Marketing Specialist', 'Network Engineer', 'Office Manager',\n",
       "       'Operations Analyst', 'Operations Director', 'Operations Manager',\n",
       "       'Principal Engineer', 'Principal Scientist', 'Product Designer',\n",
       "       'Product Manager', 'Product Marketing Manager', 'Project Engineer',\n",
       "       'Project Manager', 'Public Relations Manager', 'Receptionist',\n",
       "       'Recruiter', 'Research Director', 'Research Scientist',\n",
       "       'Sales Associate', 'Sales Director', 'Sales Executive',\n",
       "       'Sales Manager', 'Sales Operations Manager',\n",
       "       'Sales Representative', 'Senior Account Executive',\n",
       "       'Senior Account Manager', 'Senior Accountant',\n",
       "       'Senior Business Analyst', 'Senior Business Development Manager',\n",
       "       'Senior Consultant', 'Senior Data Analyst', 'Senior Data Engineer',\n",
       "       'Senior Data Scientist', 'Senior Engineer',\n",
       "       'Senior Financial Advisor', 'Senior Financial Analyst',\n",
       "       'Senior Financial Manager', 'Senior Graphic Designer',\n",
       "       'Senior HR Generalist', 'Senior HR Manager',\n",
       "       'Senior HR Specialist', 'Senior Human Resources Coordinator',\n",
       "       'Senior Human Resources Manager',\n",
       "       'Senior Human Resources Specialist', 'Senior IT Consultant',\n",
       "       'Senior IT Project Manager', 'Senior IT Support Specialist',\n",
       "       'Senior Manager', 'Senior Marketing Analyst',\n",
       "       'Senior Marketing Coordinator', 'Senior Marketing Director',\n",
       "       'Senior Marketing Manager', 'Senior Marketing Specialist',\n",
       "       'Senior Operations Analyst', 'Senior Operations Coordinator',\n",
       "       'Senior Operations Manager', 'Senior Product Designer',\n",
       "       'Senior Product Development Manager', 'Senior Product Manager',\n",
       "       'Senior Product Marketing Manager', 'Senior Project Coordinator',\n",
       "       'Senior Project Engineer', 'Senior Project Manager',\n",
       "       'Senior Quality Assurance Analyst', 'Senior Research Scientist',\n",
       "       'Senior Researcher', 'Senior Sales Manager',\n",
       "       'Senior Sales Representative', 'Senior Scientist',\n",
       "       'Senior Software Architect', 'Senior Software Developer',\n",
       "       'Senior Software Engineer', 'Senior Training Specialist',\n",
       "       'Senior UX Designer', 'Social Media Man', 'Social Media Manager',\n",
       "       'Social Media Specialist', 'Software Developer',\n",
       "       'Software Engineer', 'Software Engineer Manager',\n",
       "       'Software Manager', 'Software Project Manager',\n",
       "       'Strategy Consultant', 'Supply Chain Analyst',\n",
       "       'Supply Chain Manager', 'Technical Recruiter',\n",
       "       'Technical Support Specialist', 'Technical Writer',\n",
       "       'Training Specialist', 'UX Designer', 'UX Researcher',\n",
       "       'VP of Finance', 'VP of Operations', 'Web Developer'], dtype=object)"
      ]
     },
     "execution_count": 16,
     "metadata": {},
     "output_type": "execute_result"
    }
   ],
   "source": [
    "df['job_title'].sort_values().unique()"
   ]
  },
  {
   "cell_type": "markdown",
   "id": "8b18d441",
   "metadata": {},
   "source": [
    "То же самое проделаем и со столбцом `education_level`"
   ]
  },
  {
   "cell_type": "code",
   "execution_count": 17,
   "id": "e15fa9dc",
   "metadata": {},
   "outputs": [
    {
     "data": {
      "text/plain": [
       "array([\"Bachelor's\", \"Bachelor's Degree\", 'High School', \"Master's\",\n",
       "       \"Master's Degree\", 'PhD', 'phD'], dtype=object)"
      ]
     },
     "execution_count": 17,
     "metadata": {},
     "output_type": "execute_result"
    }
   ],
   "source": [
    "df['education_level'].sort_values().unique()"
   ]
  },
  {
   "cell_type": "code",
   "execution_count": 18,
   "id": "8e7a32f2",
   "metadata": {},
   "outputs": [],
   "source": [
    "df = df.replace([\"Bachelor's Degree\",\"Master's Degree\",'phD'],[\"Bachelor's\",\"Master's\",'PhD'])"
   ]
  },
  {
   "cell_type": "code",
   "execution_count": 19,
   "id": "a1521c39",
   "metadata": {},
   "outputs": [
    {
     "data": {
      "text/plain": [
       "array([\"Bachelor's\", 'High School', \"Master's\", 'PhD'], dtype=object)"
      ]
     },
     "execution_count": 19,
     "metadata": {},
     "output_type": "execute_result"
    }
   ],
   "source": [
    "df['education_level'].sort_values().unique()"
   ]
  },
  {
   "cell_type": "markdown",
   "id": "d9f00978",
   "metadata": {},
   "source": [
    "**Выводы**\n",
    "\n",
    "Предобработка обнаружила три проблемы в данных:\n",
    "\n",
    "- нарушения в стиле заголовков,\n",
    "- пропущенные значения,\n",
    "- дубликаты — явные и неявные.\n",
    "\n",
    "Мы исправили заголовки, чтобы упростить работу с таблицей. Без дубликатов исследование станет более точным.\n"
   ]
  },
  {
   "cell_type": "markdown",
   "id": "63e2f174",
   "metadata": {},
   "source": [
    "## Анализ данных "
   ]
  },
  {
   "cell_type": "code",
   "execution_count": 20,
   "id": "9f8263d1",
   "metadata": {
    "scrolled": true
   },
   "outputs": [
    {
     "data": {
      "text/plain": [
       "gender\n",
       "Female    814\n",
       "Male      966\n",
       "Other       7\n",
       "Name: age, dtype: int64"
      ]
     },
     "execution_count": 20,
     "metadata": {},
     "output_type": "execute_result"
    }
   ],
   "source": [
    "df.groupby('gender')['age'].count()"
   ]
  },
  {
   "cell_type": "code",
   "execution_count": 21,
   "id": "6dba1dec",
   "metadata": {
    "scrolled": true
   },
   "outputs": [
    {
     "data": {
      "text/plain": [
       "education_level\n",
       "Bachelor's     768\n",
       "High School    110\n",
       "Master's       568\n",
       "PhD            341\n",
       "Name: age, dtype: int64"
      ]
     },
     "execution_count": 21,
     "metadata": {},
     "output_type": "execute_result"
    }
   ],
   "source": [
    "df.groupby('education_level')['age'].count()"
   ]
  },
  {
   "cell_type": "code",
   "execution_count": 22,
   "id": "a26dce72",
   "metadata": {},
   "outputs": [],
   "source": [
    "def number_education_level(education_level, gender):\n",
    "    education_level_list = df[(df['education_level'] == education_level) & (df['gender'] == gender)]\n",
    "    education_level_count = education_level_list['age'].count()\n",
    "    return education_level_count\n"
   ]
  },
  {
   "cell_type": "code",
   "execution_count": 23,
   "id": "13f48f26",
   "metadata": {},
   "outputs": [
    {
     "data": {
      "text/plain": [
       "53"
      ]
     },
     "execution_count": 23,
     "metadata": {},
     "output_type": "execute_result"
    }
   ],
   "source": [
    "high_school_male = number_education_level(\"High School\", 'Male')\n",
    "high_school_male"
   ]
  },
  {
   "cell_type": "code",
   "execution_count": 24,
   "id": "c5a8d8fa",
   "metadata": {},
   "outputs": [
    {
     "data": {
      "text/plain": [
       "440"
      ]
     },
     "execution_count": 24,
     "metadata": {},
     "output_type": "execute_result"
    }
   ],
   "source": [
    "bachelor_s_male = number_education_level(\"Bachelor's\", 'Male')\n",
    "bachelor_s_male"
   ]
  },
  {
   "cell_type": "code",
   "execution_count": 25,
   "id": "c42e82ec",
   "metadata": {},
   "outputs": [
    {
     "data": {
      "text/plain": [
       "255"
      ]
     },
     "execution_count": 25,
     "metadata": {},
     "output_type": "execute_result"
    }
   ],
   "source": [
    "master_s_male = number_education_level(\"Master's\", 'Male')\n",
    "master_s_male"
   ]
  },
  {
   "cell_type": "code",
   "execution_count": 26,
   "id": "0bdecd72",
   "metadata": {},
   "outputs": [
    {
     "data": {
      "text/plain": [
       "218"
      ]
     },
     "execution_count": 26,
     "metadata": {},
     "output_type": "execute_result"
    }
   ],
   "source": [
    "phd_male = number_education_level(\"PhD\", 'Male')\n",
    "phd_male"
   ]
  },
  {
   "cell_type": "code",
   "execution_count": 27,
   "id": "6ac45faa",
   "metadata": {},
   "outputs": [
    {
     "data": {
      "text/plain": [
       "51"
      ]
     },
     "execution_count": 27,
     "metadata": {},
     "output_type": "execute_result"
    }
   ],
   "source": [
    "high_school_female = number_education_level(\"High School\", 'Female')\n",
    "high_school_female"
   ]
  },
  {
   "cell_type": "code",
   "execution_count": 28,
   "id": "bd319e17",
   "metadata": {},
   "outputs": [
    {
     "data": {
      "text/plain": [
       "328"
      ]
     },
     "execution_count": 28,
     "metadata": {},
     "output_type": "execute_result"
    }
   ],
   "source": [
    "bachelor_s_female = number_education_level(\"Bachelor's\", 'Female')\n",
    "bachelor_s_female"
   ]
  },
  {
   "cell_type": "code",
   "execution_count": 29,
   "id": "a01d863c",
   "metadata": {},
   "outputs": [
    {
     "data": {
      "text/plain": [
       "312"
      ]
     },
     "execution_count": 29,
     "metadata": {},
     "output_type": "execute_result"
    }
   ],
   "source": [
    "master_s_female = number_education_level(\"Master's\", 'Female')\n",
    "master_s_female"
   ]
  },
  {
   "cell_type": "code",
   "execution_count": 30,
   "id": "59cd08b6",
   "metadata": {},
   "outputs": [
    {
     "data": {
      "text/plain": [
       "123"
      ]
     },
     "execution_count": 30,
     "metadata": {},
     "output_type": "execute_result"
    }
   ],
   "source": [
    "phd_female = number_education_level(\"PhD\", 'Female')\n",
    "phd_female"
   ]
  },
  {
   "cell_type": "code",
   "execution_count": 31,
   "id": "f59bb02d",
   "metadata": {},
   "outputs": [
    {
     "data": {
      "text/plain": [
       "6"
      ]
     },
     "execution_count": 31,
     "metadata": {},
     "output_type": "execute_result"
    }
   ],
   "source": [
    "high_school_other = number_education_level(\"High School\", 'Other')\n",
    "high_school_other"
   ]
  },
  {
   "cell_type": "code",
   "execution_count": 32,
   "id": "fb011585",
   "metadata": {},
   "outputs": [
    {
     "data": {
      "text/plain": [
       "0"
      ]
     },
     "execution_count": 32,
     "metadata": {},
     "output_type": "execute_result"
    }
   ],
   "source": [
    "bachelor_s_other = number_education_level(\"Bachelor's\", 'Other')\n",
    "bachelor_s_other"
   ]
  },
  {
   "cell_type": "code",
   "execution_count": 33,
   "id": "de7ae166",
   "metadata": {},
   "outputs": [
    {
     "data": {
      "text/plain": [
       "1"
      ]
     },
     "execution_count": 33,
     "metadata": {},
     "output_type": "execute_result"
    }
   ],
   "source": [
    "master_s_other = number_education_level(\"Master's\", 'Other')\n",
    "master_s_other"
   ]
  },
  {
   "cell_type": "code",
   "execution_count": 34,
   "id": "6f54e405",
   "metadata": {},
   "outputs": [
    {
     "data": {
      "text/plain": [
       "0"
      ]
     },
     "execution_count": 34,
     "metadata": {},
     "output_type": "execute_result"
    }
   ],
   "source": [
    "phd_other = number_education_level(\"PhD\", 'Other')\n",
    "phd_other"
   ]
  },
  {
   "cell_type": "code",
   "execution_count": 35,
   "id": "9c4f2311",
   "metadata": {},
   "outputs": [],
   "source": [
    "columns = [ \"gender\",'high_school',\"bachelor_s\",\"master_s\",'phd']\n",
    "data = [['Male', high_school_male, bachelor_s_male, master_s_male, phd_male],\n",
    "        ['Female', high_school_female, bachelor_s_female, master_s_female, phd_female],\n",
    "        ['Other', high_school_other, bachelor_s_other, master_s_other, phd_other]\n",
    "       ]\n",
    "result = pd.DataFrame(data=data,columns=columns)"
   ]
  },
  {
   "cell_type": "code",
   "execution_count": 36,
   "id": "5d8cd791",
   "metadata": {},
   "outputs": [
    {
     "data": {
      "text/html": [
       "<div>\n",
       "<style scoped>\n",
       "    .dataframe tbody tr th:only-of-type {\n",
       "        vertical-align: middle;\n",
       "    }\n",
       "\n",
       "    .dataframe tbody tr th {\n",
       "        vertical-align: top;\n",
       "    }\n",
       "\n",
       "    .dataframe thead th {\n",
       "        text-align: right;\n",
       "    }\n",
       "</style>\n",
       "<table border=\"1\" class=\"dataframe\">\n",
       "  <thead>\n",
       "    <tr style=\"text-align: right;\">\n",
       "      <th></th>\n",
       "      <th>gender</th>\n",
       "      <th>high_school</th>\n",
       "      <th>bachelor_s</th>\n",
       "      <th>master_s</th>\n",
       "      <th>phd</th>\n",
       "    </tr>\n",
       "  </thead>\n",
       "  <tbody>\n",
       "    <tr>\n",
       "      <th>0</th>\n",
       "      <td>Male</td>\n",
       "      <td>53</td>\n",
       "      <td>440</td>\n",
       "      <td>255</td>\n",
       "      <td>218</td>\n",
       "    </tr>\n",
       "    <tr>\n",
       "      <th>1</th>\n",
       "      <td>Female</td>\n",
       "      <td>51</td>\n",
       "      <td>328</td>\n",
       "      <td>312</td>\n",
       "      <td>123</td>\n",
       "    </tr>\n",
       "    <tr>\n",
       "      <th>2</th>\n",
       "      <td>Other</td>\n",
       "      <td>6</td>\n",
       "      <td>0</td>\n",
       "      <td>1</td>\n",
       "      <td>0</td>\n",
       "    </tr>\n",
       "  </tbody>\n",
       "</table>\n",
       "</div>"
      ],
      "text/plain": [
       "   gender  high_school  bachelor_s  master_s  phd\n",
       "0    Male           53         440       255  218\n",
       "1  Female           51         328       312  123\n",
       "2   Other            6           0         1    0"
      ]
     },
     "execution_count": 36,
     "metadata": {},
     "output_type": "execute_result"
    }
   ],
   "source": [
    "result"
   ]
  },
  {
   "cell_type": "code",
   "execution_count": 37,
   "id": "8cacfad7",
   "metadata": {},
   "outputs": [],
   "source": [
    "male_gen = df[df['gender']=='Male']\n",
    "female_gen = df[df['gender']=='Female']\n",
    "other_gen = df[df['gender']=='Other']"
   ]
  },
  {
   "cell_type": "code",
   "execution_count": 38,
   "id": "1e162ac2",
   "metadata": {},
   "outputs": [],
   "source": [
    "def salary_level(df, gender, years_of_experience1, years_of_experience2):\n",
    "    salary_level_df = df[(df['gender']==gender)&(df['years_of_experience']>years_of_experience1)&(df['years_of_experience']<years_of_experience2)]\n",
    "    salary_level_df['salary'].plot.hist(bins = 20)\n",
    "    return "
   ]
  },
  {
   "cell_type": "code",
   "execution_count": 39,
   "id": "0e14b441",
   "metadata": {},
   "outputs": [
    {
     "data": {
      "image/png": "[encoded data removed]",
      "text/plain": [
       "<Figure size 640x480 with 1 Axes>"
      ]
     },
     "metadata": {},
     "output_type": "display_data"
    }
   ],
   "source": [
    "salary_level(male_gen, 'Male', 1, 5)"
   ]
  },
  {
   "cell_type": "code",
   "execution_count": 40,
   "id": "e75721b3",
   "metadata": {},
   "outputs": [
    {
     "data": {
      "image/png": "[encoded data removed]",
      "text/plain": [
       "<Figure size 640x480 with 1 Axes>"
      ]
     },
     "metadata": {},
     "output_type": "display_data"
    }
   ],
   "source": [
    "salary_level(male_gen, 'Male', 6, 10)"
   ]
  },
  {
   "cell_type": "code",
   "execution_count": 41,
   "id": "050eda3d",
   "metadata": {},
   "outputs": [
    {
     "data": {
      "image/png": "[encoded data removed]",
      "text/plain": [
       "<Figure size 640x480 with 1 Axes>"
      ]
     },
     "metadata": {},
     "output_type": "display_data"
    }
   ],
   "source": [
    "salary_level(female_gen, 'Female', 1, 5)"
   ]
  },
  {
   "cell_type": "code",
   "execution_count": 42,
   "id": "3fdcf503",
   "metadata": {},
   "outputs": [
    {
     "data": {
      "image/png": "[encoded data removed]",
      "text/plain": [
       "<Figure size 640x480 with 1 Axes>"
      ]
     },
     "metadata": {},
     "output_type": "display_data"
    }
   ],
   "source": [
    "salary_level(female_gen, 'Female', 6, 10)"
   ]
  },
  {
   "cell_type": "code",
   "execution_count": 43,
   "id": "7ba4146e",
   "metadata": {},
   "outputs": [
    {
     "data": {
      "image/png": "[encoded data removed]",
      "text/plain": [
       "<Figure size 640x480 with 1 Axes>"
      ]
     },
     "metadata": {},
     "output_type": "display_data"
    }
   ],
   "source": [
    "salary_level(other_gen,'Other',1,10)"
   ]
  }
 ],
 "metadata": {
  "kernelspec": {
   "display_name": "Python 3 (ipykernel)",
   "language": "python",
   "name": "python3"
  },
  "language_info": {
   "codemirror_mode": {
    "name": "ipython",
    "version": 3
   },
   "file_extension": ".py",
   "mimetype": "text/x-python",
   "name": "python",
   "nbconvert_exporter": "python",
   "pygments_lexer": "ipython3",
   "version": "3.11.3"
  }
 },
 "nbformat": 4,
 "nbformat_minor": 5
}
